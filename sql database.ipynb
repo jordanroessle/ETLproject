{
 "cells": [
  {
   "cell_type": "code",
   "execution_count": 20,
   "metadata": {},
   "outputs": [],
   "source": [
    "import pandas as pd\n",
    "from sqlalchemy import create_engine\n",
    "from config import postgres_password"
   ]
  },
  {
   "cell_type": "code",
   "execution_count": 21,
   "metadata": {},
   "outputs": [],
   "source": [
    "merged_pop_gdp_df = pd.read_csv(\"Resources/cleaned_data/merged_pop_gdp.csv\")\n",
    "cleaned_billionaires_df = pd.read_csv(\"Resources/cleaned_data/cleaned_billionaires.csv\")"
   ]
  },
  {
   "cell_type": "code",
   "execution_count": 22,
   "metadata": {},
   "outputs": [],
   "source": [
    "rds_connection_string = \"postgres:\" + postgres_password + \"@localhost:5432/billionaires\"\n",
    "engine = create_engine(f'postgresql://{rds_connection_string}')\n",
    "merged_pop_gdp_df.to_sql(name='population', con=engine, if_exists='replace', index=False)\n",
    "cleaned_billionaires_df.to_sql(name='billionaires', con=engine, if_exists='replace', index=False)"
   ]
  }
 ],
 "metadata": {
  "kernelspec": {
   "display_name": "Python 3",
   "language": "python",
   "name": "python3"
  },
  "language_info": {
   "codemirror_mode": {
    "name": "ipython",
    "version": 3
   },
   "file_extension": ".py",
   "mimetype": "text/x-python",
   "name": "python",
   "nbconvert_exporter": "python",
   "pygments_lexer": "ipython3",
   "version": "3.8.5"
  }
 },
 "nbformat": 4,
 "nbformat_minor": 4
}
